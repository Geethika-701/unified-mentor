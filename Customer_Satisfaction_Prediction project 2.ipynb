{
 "cells": [
  {
   "cell_type": "code",
   "execution_count": 2,
   "id": "b0c3eae7",
   "metadata": {},
   "outputs": [],
   "source": [
    "import pandas as pd\n",
    "import numpy as np\n",
    "import matplotlib.pyplot as plt\n",
    "import seaborn as sns\n",
    "from sklearn.model_selection import train_test_split\n",
    "from sklearn.preprocessing import StandardScaler, LabelEncoder\n",
    "from sklearn.ensemble import RandomForestClassifier\n",
    "from sklearn.metrics import accuracy_score, classification_report, confusion_matrix\n"
   ]
  },
  {
   "cell_type": "code",
   "execution_count": 9,
   "id": "5ca850bc",
   "metadata": {},
   "outputs": [
    {
     "name": "stdout",
     "output_type": "stream",
     "text": [
      "   Ticket ID        Customer Name              Customer Email  Customer Age  \\\n",
      "0          1        Marisa Obrien  carrollallison@example.com            32   \n",
      "1          2         Jessica Rios    clarkeashley@example.com            42   \n",
      "2          3  Christopher Robbins   gonzalestracy@example.com            48   \n",
      "3          4     Christina Dillon    bradleyolson@example.org            27   \n",
      "4          5    Alexander Carroll     bradleymark@example.com            67   \n",
      "\n",
      "  Customer Gender Product Purchased Date of Purchase      Ticket Type  \\\n",
      "0           Other        GoPro Hero       2021-03-22  Technical issue   \n",
      "1          Female       LG Smart TV       2021-05-22  Technical issue   \n",
      "2           Other          Dell XPS       2020-07-14  Technical issue   \n",
      "3          Female  Microsoft Office       2020-11-13  Billing inquiry   \n",
      "4          Female  Autodesk AutoCAD       2020-02-04  Billing inquiry   \n",
      "\n",
      "             Ticket Subject  \\\n",
      "0             Product setup   \n",
      "1  Peripheral compatibility   \n",
      "2           Network problem   \n",
      "3            Account access   \n",
      "4                 Data loss   \n",
      "\n",
      "                                  Ticket Description  \\\n",
      "0  I'm having an issue with the {product_purchase...   \n",
      "1  I'm having an issue with the {product_purchase...   \n",
      "2  I'm facing a problem with my {product_purchase...   \n",
      "3  I'm having an issue with the {product_purchase...   \n",
      "4  I'm having an issue with the {product_purchase...   \n",
      "\n",
      "               Ticket Status                                     Resolution  \\\n",
      "0  Pending Customer Response                                            NaN   \n",
      "1  Pending Customer Response                                            NaN   \n",
      "2                     Closed   Case maybe show recently my computer follow.   \n",
      "3                     Closed  Try capital clearly never color toward story.   \n",
      "4                     Closed                    West decision evidence bit.   \n",
      "\n",
      "  Ticket Priority Ticket Channel  First Response Time   Time to Resolution  \\\n",
      "0        Critical   Social media  2023-06-01 12:15:36                  NaN   \n",
      "1        Critical           Chat  2023-06-01 16:45:38                  NaN   \n",
      "2             Low   Social media  2023-06-01 11:14:38  2023-06-01 18:05:38   \n",
      "3             Low   Social media  2023-06-01 07:29:40  2023-06-01 01:57:40   \n",
      "4             Low          Email  2023-06-01 00:12:42  2023-06-01 19:53:42   \n",
      "\n",
      "   Customer Satisfaction Rating  \n",
      "0                           NaN  \n",
      "1                           NaN  \n",
      "2                           3.0  \n",
      "3                           3.0  \n",
      "4                           1.0  \n",
      "<class 'pandas.core.frame.DataFrame'>\n",
      "RangeIndex: 8469 entries, 0 to 8468\n",
      "Data columns (total 17 columns):\n",
      " #   Column                        Non-Null Count  Dtype  \n",
      "---  ------                        --------------  -----  \n",
      " 0   Ticket ID                     8469 non-null   int64  \n",
      " 1   Customer Name                 8469 non-null   object \n",
      " 2   Customer Email                8469 non-null   object \n",
      " 3   Customer Age                  8469 non-null   int64  \n",
      " 4   Customer Gender               8469 non-null   object \n",
      " 5   Product Purchased             8469 non-null   object \n",
      " 6   Date of Purchase              8469 non-null   object \n",
      " 7   Ticket Type                   8469 non-null   object \n",
      " 8   Ticket Subject                8469 non-null   object \n",
      " 9   Ticket Description            8469 non-null   object \n",
      " 10  Ticket Status                 8469 non-null   object \n",
      " 11  Resolution                    2769 non-null   object \n",
      " 12  Ticket Priority               8469 non-null   object \n",
      " 13  Ticket Channel                8469 non-null   object \n",
      " 14  First Response Time           5650 non-null   object \n",
      " 15  Time to Resolution            2769 non-null   object \n",
      " 16  Customer Satisfaction Rating  2769 non-null   float64\n",
      "dtypes: float64(1), int64(2), object(14)\n",
      "memory usage: 1.1+ MB\n",
      "None\n"
     ]
    }
   ],
   "source": [
    "\n",
    "#data = pd.read_csv(\"customer_support_tickets.csv\")  \n",
    "data=pd.read_csv(r\"C:\\Users\\sanga\\OneDrive\\Desktop\\DS ass\\customer_support_tickets.csv\")\n",
    "print(data.head())\n",
    "print(data.info())\n"
   ]
  },
  {
   "cell_type": "code",
   "execution_count": 10,
   "id": "8c9178c7",
   "metadata": {},
   "outputs": [],
   "source": [
    "\n",
    "data = data.dropna()\n",
    "label_encoders = {}\n",
    "for column in data.select_dtypes(include=['object']).columns:\n",
    "    label_encoders[column] = LabelEncoder()\n",
    "    data[column] = label_encoders[column].fit_transform(data[column])\n"
   ]
  },
  {
   "cell_type": "code",
   "execution_count": 11,
   "id": "9712c435",
   "metadata": {},
   "outputs": [],
   "source": [
    "\n",
    "X = data.drop(['Ticket ID', 'Customer Name', 'Customer Email', 'Customer Satisfaction Rating'], axis=1)\n",
    "y = data['Customer Satisfaction Rating']\n",
    "X_train, X_test, y_train, y_test = train_test_split(X, y, test_size=0.3, random_state=42)\n"
   ]
  },
  {
   "cell_type": "code",
   "execution_count": 12,
   "id": "f14c687a",
   "metadata": {},
   "outputs": [],
   "source": [
    "scaler = StandardScaler()\n",
    "X_train = scaler.fit_transform(X_train)\n",
    "X_test = scaler.transform(X_test)\n"
   ]
  },
  {
   "cell_type": "code",
   "execution_count": 13,
   "id": "57739a30",
   "metadata": {},
   "outputs": [],
   "source": [
    "model = RandomForestClassifier(random_state=42)\n",
    "model.fit(X_train, y_train)\n",
    "y_pred = model.predict(X_test)\n"
   ]
  },
  {
   "cell_type": "code",
   "execution_count": 14,
   "id": "0ca22e9e",
   "metadata": {},
   "outputs": [
    {
     "name": "stdout",
     "output_type": "stream",
     "text": [
      "Accuracy: 0.20818291215403129\n",
      "Classification Report:\n",
      "               precision    recall  f1-score   support\n",
      "\n",
      "         1.0       0.22      0.20      0.21       168\n",
      "         2.0       0.24      0.21      0.22       174\n",
      "         3.0       0.23      0.25      0.24       175\n",
      "         4.0       0.20      0.18      0.19       162\n",
      "         5.0       0.16      0.19      0.17       152\n",
      "\n",
      "    accuracy                           0.21       831\n",
      "   macro avg       0.21      0.21      0.21       831\n",
      "weighted avg       0.21      0.21      0.21       831\n",
      "\n",
      "Confusion Matrix:\n",
      " [[34 29 35 31 39]\n",
      " [40 37 43 25 29]\n",
      " [30 30 44 31 40]\n",
      " [27 30 33 29 43]\n",
      " [25 31 38 29 29]]\n"
     ]
    }
   ],
   "source": [
    "print(\"Accuracy:\", accuracy_score(y_test, y_pred))\n",
    "print(\"Classification Report:\\n\", classification_report(y_test, y_pred))\n",
    "print(\"Confusion Matrix:\\n\", confusion_matrix(y_test, y_pred))\n"
   ]
  },
  {
   "cell_type": "code",
   "execution_count": 15,
   "id": "7ef887ce",
   "metadata": {},
   "outputs": [
    {
     "data": {
      "image/png": "[encoded data removed]",
      "text/plain": [
       "<Figure size 640x480 with 1 Axes>"
      ]
     },
     "metadata": {},
     "output_type": "display_data"
    }
   ],
   "source": [
    "feature_importances = pd.Series(model.feature_importances_, index=X.columns)\n",
    "feature_importances.nlargest(10).plot(kind='barh')\n",
    "plt.title('Top 10 Feature Importances')\n",
    "plt.show()\n"
   ]
  }
 ],
 "metadata": {
  "kernelspec": {
   "display_name": "Python 3",
   "language": "python",
   "name": "python3"
  },
  "language_info": {
   "codemirror_mode": {
    "name": "ipython",
    "version": 3
   },
   "file_extension": ".py",
   "mimetype": "text/x-python",
   "name": "python",
   "nbconvert_exporter": "python",
   "pygments_lexer": "ipython3",
   "version": "3.13.4"
  }
 },
 "nbformat": 4,
 "nbformat_minor": 5
}
